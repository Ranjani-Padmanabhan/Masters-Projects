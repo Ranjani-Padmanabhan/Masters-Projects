{
 "cells": [
  {
   "cell_type": "code",
   "execution_count": 1,
   "metadata": {},
   "outputs": [],
   "source": [
    "# import required libraries\n",
    "import pandas as pd\n",
    "import numpy as np\n",
    "import matplotlib.pyplot as plt\n",
    "import seaborn as sns"
   ]
  },
  {
   "cell_type": "code",
   "execution_count": 2,
   "metadata": {},
   "outputs": [],
   "source": [
    "# read the data\n",
    "df = pd.read_csv(\"fleet_train.csv\")"
   ]
  },
  {
   "cell_type": "code",
   "execution_count": 3,
   "metadata": {},
   "outputs": [],
   "source": [
    "df = df[['Engine_Load',\n",
    "       'Engine_Coolant_Temp','Engine_RPM','Voltage_Control_Module','Engine_Oil_Temp','Turbo_Boost_And_Vcm_Gauge']]"
   ]
  },
  {
   "cell_type": "code",
   "execution_count": 4,
   "metadata": {},
   "outputs": [
    {
     "data": {
      "text/html": [
       "<div>\n",
       "<style scoped>\n",
       "    .dataframe tbody tr th:only-of-type {\n",
       "        vertical-align: middle;\n",
       "    }\n",
       "\n",
       "    .dataframe tbody tr th {\n",
       "        vertical-align: top;\n",
       "    }\n",
       "\n",
       "    .dataframe thead th {\n",
       "        text-align: right;\n",
       "    }\n",
       "</style>\n",
       "<table border=\"1\" class=\"dataframe\">\n",
       "  <thead>\n",
       "    <tr style=\"text-align: right;\">\n",
       "      <th></th>\n",
       "      <th>Engine_Load</th>\n",
       "      <th>Engine_Coolant_Temp</th>\n",
       "      <th>Engine_RPM</th>\n",
       "      <th>Voltage_Control_Module</th>\n",
       "      <th>Engine_Oil_Temp</th>\n",
       "      <th>Turbo_Boost_And_Vcm_Gauge</th>\n",
       "    </tr>\n",
       "  </thead>\n",
       "  <tbody>\n",
       "    <tr>\n",
       "      <th>0</th>\n",
       "      <td>21.568628</td>\n",
       "      <td>88</td>\n",
       "      <td>1115.5</td>\n",
       "      <td>14.10</td>\n",
       "      <td>85</td>\n",
       "      <td>2.755716</td>\n",
       "    </tr>\n",
       "    <tr>\n",
       "      <th>1</th>\n",
       "      <td>20.392157</td>\n",
       "      <td>88</td>\n",
       "      <td>1782.5</td>\n",
       "      <td>14.10</td>\n",
       "      <td>85</td>\n",
       "      <td>5.511435</td>\n",
       "    </tr>\n",
       "    <tr>\n",
       "      <th>2</th>\n",
       "      <td>43.529410</td>\n",
       "      <td>81</td>\n",
       "      <td>1588.0</td>\n",
       "      <td>14.20</td>\n",
       "      <td>79</td>\n",
       "      <td>1.740453</td>\n",
       "    </tr>\n",
       "    <tr>\n",
       "      <th>3</th>\n",
       "      <td>99.607840</td>\n",
       "      <td>89</td>\n",
       "      <td>1899.5</td>\n",
       "      <td>14.16</td>\n",
       "      <td>87</td>\n",
       "      <td>4.496170</td>\n",
       "    </tr>\n",
       "    <tr>\n",
       "      <th>4</th>\n",
       "      <td>73.333336</td>\n",
       "      <td>89</td>\n",
       "      <td>1230.5</td>\n",
       "      <td>14.12</td>\n",
       "      <td>85</td>\n",
       "      <td>3.770981</td>\n",
       "    </tr>\n",
       "    <tr>\n",
       "      <th>...</th>\n",
       "      <td>...</td>\n",
       "      <td>...</td>\n",
       "      <td>...</td>\n",
       "      <td>...</td>\n",
       "      <td>...</td>\n",
       "      <td>...</td>\n",
       "    </tr>\n",
       "    <tr>\n",
       "      <th>7499</th>\n",
       "      <td>17.254902</td>\n",
       "      <td>89</td>\n",
       "      <td>1298.0</td>\n",
       "      <td>14.22</td>\n",
       "      <td>87</td>\n",
       "      <td>1.305340</td>\n",
       "    </tr>\n",
       "    <tr>\n",
       "      <th>7500</th>\n",
       "      <td>0.000000</td>\n",
       "      <td>90</td>\n",
       "      <td>1158.5</td>\n",
       "      <td>14.18</td>\n",
       "      <td>88</td>\n",
       "      <td>1.740453</td>\n",
       "    </tr>\n",
       "    <tr>\n",
       "      <th>7501</th>\n",
       "      <td>55.686275</td>\n",
       "      <td>89</td>\n",
       "      <td>1575.5</td>\n",
       "      <td>14.02</td>\n",
       "      <td>86</td>\n",
       "      <td>4.206095</td>\n",
       "    </tr>\n",
       "    <tr>\n",
       "      <th>7502</th>\n",
       "      <td>46.274510</td>\n",
       "      <td>87</td>\n",
       "      <td>1412.0</td>\n",
       "      <td>14.20</td>\n",
       "      <td>83</td>\n",
       "      <td>1.740453</td>\n",
       "    </tr>\n",
       "    <tr>\n",
       "      <th>7503</th>\n",
       "      <td>62.745100</td>\n",
       "      <td>88</td>\n",
       "      <td>1524.5</td>\n",
       "      <td>14.20</td>\n",
       "      <td>83</td>\n",
       "      <td>5.221359</td>\n",
       "    </tr>\n",
       "  </tbody>\n",
       "</table>\n",
       "<p>7504 rows × 6 columns</p>\n",
       "</div>"
      ],
      "text/plain": [
       "      Engine_Load  Engine_Coolant_Temp  Engine_RPM  Voltage_Control_Module  \\\n",
       "0       21.568628                   88      1115.5                   14.10   \n",
       "1       20.392157                   88      1782.5                   14.10   \n",
       "2       43.529410                   81      1588.0                   14.20   \n",
       "3       99.607840                   89      1899.5                   14.16   \n",
       "4       73.333336                   89      1230.5                   14.12   \n",
       "...           ...                  ...         ...                     ...   \n",
       "7499    17.254902                   89      1298.0                   14.22   \n",
       "7500     0.000000                   90      1158.5                   14.18   \n",
       "7501    55.686275                   89      1575.5                   14.02   \n",
       "7502    46.274510                   87      1412.0                   14.20   \n",
       "7503    62.745100                   88      1524.5                   14.20   \n",
       "\n",
       "      Engine_Oil_Temp  Turbo_Boost_And_Vcm_Gauge  \n",
       "0                  85                   2.755716  \n",
       "1                  85                   5.511435  \n",
       "2                  79                   1.740453  \n",
       "3                  87                   4.496170  \n",
       "4                  85                   3.770981  \n",
       "...               ...                        ...  \n",
       "7499               87                   1.305340  \n",
       "7500               88                   1.740453  \n",
       "7501               86                   4.206095  \n",
       "7502               83                   1.740453  \n",
       "7503               83                   5.221359  \n",
       "\n",
       "[7504 rows x 6 columns]"
      ]
     },
     "execution_count": 4,
     "metadata": {},
     "output_type": "execute_result"
    }
   ],
   "source": [
    "df"
   ]
  },
  {
   "cell_type": "code",
   "execution_count": 5,
   "metadata": {},
   "outputs": [],
   "source": [
    "def el(x):\n",
    "    if x<85:\n",
    "        return 'green'\n",
    "    if (x>=85) & (x<=98):\n",
    "        return 'orange'\n",
    "    if x>98:\n",
    "        return 'red'\n",
    "    \n",
    "def ect(x):\n",
    "    if x<90:\n",
    "        return 'green'\n",
    "    if (x>=90) & (x<=105):\n",
    "        return 'orange'\n",
    "    if x>105:\n",
    "        return 'red'\n",
    "    \n",
    "def erpm(x):\n",
    "    if x<1800:\n",
    "        return 'green'\n",
    "    if (x>=1800) & (x<=2200):\n",
    "        return 'orange'\n",
    "    if x>2200:\n",
    "        return 'red'\n",
    "    \n",
    "def vcm(x):\n",
    "    if (x>13.9) & (x<14.9):\n",
    "        return 'green'\n",
    "    if (x>=13) & (x<=13.9):\n",
    "        return 'orange'\n",
    "    if (x<13) | (x>=14.9):\n",
    "        return 'red'\n",
    "    \n",
    "def eot(x):\n",
    "    if (x<100):\n",
    "        return 'green'\n",
    "    if (x>=100) & (x<120):\n",
    "        return 'orange'\n",
    "    if (x>=120):\n",
    "        return 'red'\n",
    "    \n",
    "def tb_vcm(x):\n",
    "    if x<22:\n",
    "        return 'green'\n",
    "    if x>=22:\n",
    "        return 'red'\n",
    "     \n",
    "df1 = pd.DataFrame()\n",
    "df1['engine_load_category'] = df['Engine_Load'].apply(el)\n",
    "df1['Engine_Coolant_Temp_category'] = df['Engine_Coolant_Temp'].apply(ect)\n",
    "df1['Engine_RPM_category'] = df['Engine_RPM'].apply(erpm)\n",
    "df1['Voltage_Control_Module_category'] = df['Voltage_Control_Module'].apply(vcm)\n",
    "df1['Engine_Oil_Temp_category'] = df['Engine_Oil_Temp'].apply(eot)\n",
    "df1['Turbo_Boost_And_Vcm_Gauge_category'] = df['Turbo_Boost_And_Vcm_Gauge'].apply(tb_vcm)\n",
    "                              "
   ]
  },
  {
   "cell_type": "code",
   "execution_count": 6,
   "metadata": {},
   "outputs": [
    {
     "data": {
      "text/plain": [
       "Index(['Engine_Load', 'Engine_Coolant_Temp', 'Engine_RPM',\n",
       "       'Voltage_Control_Module', 'Engine_Oil_Temp',\n",
       "       'Turbo_Boost_And_Vcm_Gauge'],\n",
       "      dtype='object')"
      ]
     },
     "execution_count": 6,
     "metadata": {},
     "output_type": "execute_result"
    }
   ],
   "source": [
    "df.columns"
   ]
  },
  {
   "cell_type": "code",
   "execution_count": 7,
   "metadata": {},
   "outputs": [
    {
     "data": {
      "text/html": [
       "<div>\n",
       "<style scoped>\n",
       "    .dataframe tbody tr th:only-of-type {\n",
       "        vertical-align: middle;\n",
       "    }\n",
       "\n",
       "    .dataframe tbody tr th {\n",
       "        vertical-align: top;\n",
       "    }\n",
       "\n",
       "    .dataframe thead th {\n",
       "        text-align: right;\n",
       "    }\n",
       "</style>\n",
       "<table border=\"1\" class=\"dataframe\">\n",
       "  <thead>\n",
       "    <tr style=\"text-align: right;\">\n",
       "      <th></th>\n",
       "      <th>engine_load_category</th>\n",
       "      <th>Engine_Coolant_Temp_category</th>\n",
       "      <th>Engine_RPM_category</th>\n",
       "      <th>Voltage_Control_Module_category</th>\n",
       "      <th>Engine_Oil_Temp_category</th>\n",
       "      <th>Turbo_Boost_And_Vcm_Gauge_category</th>\n",
       "    </tr>\n",
       "  </thead>\n",
       "  <tbody>\n",
       "    <tr>\n",
       "      <th>0</th>\n",
       "      <td>green</td>\n",
       "      <td>green</td>\n",
       "      <td>green</td>\n",
       "      <td>green</td>\n",
       "      <td>green</td>\n",
       "      <td>green</td>\n",
       "    </tr>\n",
       "    <tr>\n",
       "      <th>1</th>\n",
       "      <td>green</td>\n",
       "      <td>green</td>\n",
       "      <td>green</td>\n",
       "      <td>green</td>\n",
       "      <td>green</td>\n",
       "      <td>green</td>\n",
       "    </tr>\n",
       "    <tr>\n",
       "      <th>2</th>\n",
       "      <td>green</td>\n",
       "      <td>green</td>\n",
       "      <td>green</td>\n",
       "      <td>green</td>\n",
       "      <td>green</td>\n",
       "      <td>green</td>\n",
       "    </tr>\n",
       "    <tr>\n",
       "      <th>3</th>\n",
       "      <td>red</td>\n",
       "      <td>green</td>\n",
       "      <td>orange</td>\n",
       "      <td>green</td>\n",
       "      <td>green</td>\n",
       "      <td>green</td>\n",
       "    </tr>\n",
       "    <tr>\n",
       "      <th>4</th>\n",
       "      <td>green</td>\n",
       "      <td>green</td>\n",
       "      <td>green</td>\n",
       "      <td>green</td>\n",
       "      <td>green</td>\n",
       "      <td>green</td>\n",
       "    </tr>\n",
       "    <tr>\n",
       "      <th>...</th>\n",
       "      <td>...</td>\n",
       "      <td>...</td>\n",
       "      <td>...</td>\n",
       "      <td>...</td>\n",
       "      <td>...</td>\n",
       "      <td>...</td>\n",
       "    </tr>\n",
       "    <tr>\n",
       "      <th>7499</th>\n",
       "      <td>green</td>\n",
       "      <td>green</td>\n",
       "      <td>green</td>\n",
       "      <td>green</td>\n",
       "      <td>green</td>\n",
       "      <td>green</td>\n",
       "    </tr>\n",
       "    <tr>\n",
       "      <th>7500</th>\n",
       "      <td>green</td>\n",
       "      <td>orange</td>\n",
       "      <td>green</td>\n",
       "      <td>green</td>\n",
       "      <td>green</td>\n",
       "      <td>green</td>\n",
       "    </tr>\n",
       "    <tr>\n",
       "      <th>7501</th>\n",
       "      <td>green</td>\n",
       "      <td>green</td>\n",
       "      <td>green</td>\n",
       "      <td>green</td>\n",
       "      <td>green</td>\n",
       "      <td>green</td>\n",
       "    </tr>\n",
       "    <tr>\n",
       "      <th>7502</th>\n",
       "      <td>green</td>\n",
       "      <td>green</td>\n",
       "      <td>green</td>\n",
       "      <td>green</td>\n",
       "      <td>green</td>\n",
       "      <td>green</td>\n",
       "    </tr>\n",
       "    <tr>\n",
       "      <th>7503</th>\n",
       "      <td>green</td>\n",
       "      <td>green</td>\n",
       "      <td>green</td>\n",
       "      <td>green</td>\n",
       "      <td>green</td>\n",
       "      <td>green</td>\n",
       "    </tr>\n",
       "  </tbody>\n",
       "</table>\n",
       "<p>7504 rows × 6 columns</p>\n",
       "</div>"
      ],
      "text/plain": [
       "     engine_load_category Engine_Coolant_Temp_category Engine_RPM_category  \\\n",
       "0                   green                        green               green   \n",
       "1                   green                        green               green   \n",
       "2                   green                        green               green   \n",
       "3                     red                        green              orange   \n",
       "4                   green                        green               green   \n",
       "...                   ...                          ...                 ...   \n",
       "7499                green                        green               green   \n",
       "7500                green                       orange               green   \n",
       "7501                green                        green               green   \n",
       "7502                green                        green               green   \n",
       "7503                green                        green               green   \n",
       "\n",
       "     Voltage_Control_Module_category Engine_Oil_Temp_category  \\\n",
       "0                              green                    green   \n",
       "1                              green                    green   \n",
       "2                              green                    green   \n",
       "3                              green                    green   \n",
       "4                              green                    green   \n",
       "...                              ...                      ...   \n",
       "7499                           green                    green   \n",
       "7500                           green                    green   \n",
       "7501                           green                    green   \n",
       "7502                           green                    green   \n",
       "7503                           green                    green   \n",
       "\n",
       "     Turbo_Boost_And_Vcm_Gauge_category  \n",
       "0                                 green  \n",
       "1                                 green  \n",
       "2                                 green  \n",
       "3                                 green  \n",
       "4                                 green  \n",
       "...                                 ...  \n",
       "7499                              green  \n",
       "7500                              green  \n",
       "7501                              green  \n",
       "7502                              green  \n",
       "7503                              green  \n",
       "\n",
       "[7504 rows x 6 columns]"
      ]
     },
     "execution_count": 7,
     "metadata": {},
     "output_type": "execute_result"
    }
   ],
   "source": [
    "df1"
   ]
  },
  {
   "cell_type": "code",
   "execution_count": 8,
   "metadata": {},
   "outputs": [],
   "source": [
    "# condition for target variable\n",
    "ls=[]\n",
    "for i in range(len(df1)):\n",
    "    if df1.loc[i].tolist().count('green') == 6:\n",
    "        ls.append('GREEN')\n",
    "        \n",
    "    elif df1.loc[i].tolist().count('red') >= 1:\n",
    "        ls.append('RED')\n",
    "        \n",
    "    elif (df1.loc[i].tolist().count('orange') < 3) & (df1.loc[i].tolist().count('red') < 1):\n",
    "        ls.append('YELLOW')\n",
    "        \n",
    "    elif (df1.loc[i].tolist().count('orange') >= 3) & (df1.loc[i].tolist().count('red') < 1):\n",
    "        ls.append('ORANGE')"
   ]
  },
  {
   "cell_type": "code",
   "execution_count": 9,
   "metadata": {},
   "outputs": [
    {
     "data": {
      "text/plain": [
       "7504"
      ]
     },
     "execution_count": 9,
     "metadata": {},
     "output_type": "execute_result"
    }
   ],
   "source": [
    "len(ls)"
   ]
  },
  {
   "cell_type": "code",
   "execution_count": 10,
   "metadata": {},
   "outputs": [],
   "source": [
    "df['target'] = ls"
   ]
  },
  {
   "cell_type": "code",
   "execution_count": 11,
   "metadata": {},
   "outputs": [
    {
     "data": {
      "text/html": [
       "<div>\n",
       "<style scoped>\n",
       "    .dataframe tbody tr th:only-of-type {\n",
       "        vertical-align: middle;\n",
       "    }\n",
       "\n",
       "    .dataframe tbody tr th {\n",
       "        vertical-align: top;\n",
       "    }\n",
       "\n",
       "    .dataframe thead th {\n",
       "        text-align: right;\n",
       "    }\n",
       "</style>\n",
       "<table border=\"1\" class=\"dataframe\">\n",
       "  <thead>\n",
       "    <tr style=\"text-align: right;\">\n",
       "      <th></th>\n",
       "      <th>engine_load_category</th>\n",
       "      <th>Engine_Coolant_Temp_category</th>\n",
       "      <th>Engine_RPM_category</th>\n",
       "      <th>Voltage_Control_Module_category</th>\n",
       "      <th>Engine_Oil_Temp_category</th>\n",
       "      <th>Turbo_Boost_And_Vcm_Gauge_category</th>\n",
       "    </tr>\n",
       "  </thead>\n",
       "  <tbody>\n",
       "    <tr>\n",
       "      <th>0</th>\n",
       "      <td>green</td>\n",
       "      <td>green</td>\n",
       "      <td>green</td>\n",
       "      <td>green</td>\n",
       "      <td>green</td>\n",
       "      <td>green</td>\n",
       "    </tr>\n",
       "    <tr>\n",
       "      <th>1</th>\n",
       "      <td>green</td>\n",
       "      <td>green</td>\n",
       "      <td>green</td>\n",
       "      <td>green</td>\n",
       "      <td>green</td>\n",
       "      <td>green</td>\n",
       "    </tr>\n",
       "    <tr>\n",
       "      <th>2</th>\n",
       "      <td>green</td>\n",
       "      <td>green</td>\n",
       "      <td>green</td>\n",
       "      <td>green</td>\n",
       "      <td>green</td>\n",
       "      <td>green</td>\n",
       "    </tr>\n",
       "    <tr>\n",
       "      <th>3</th>\n",
       "      <td>red</td>\n",
       "      <td>green</td>\n",
       "      <td>orange</td>\n",
       "      <td>green</td>\n",
       "      <td>green</td>\n",
       "      <td>green</td>\n",
       "    </tr>\n",
       "    <tr>\n",
       "      <th>4</th>\n",
       "      <td>green</td>\n",
       "      <td>green</td>\n",
       "      <td>green</td>\n",
       "      <td>green</td>\n",
       "      <td>green</td>\n",
       "      <td>green</td>\n",
       "    </tr>\n",
       "    <tr>\n",
       "      <th>...</th>\n",
       "      <td>...</td>\n",
       "      <td>...</td>\n",
       "      <td>...</td>\n",
       "      <td>...</td>\n",
       "      <td>...</td>\n",
       "      <td>...</td>\n",
       "    </tr>\n",
       "    <tr>\n",
       "      <th>7499</th>\n",
       "      <td>green</td>\n",
       "      <td>green</td>\n",
       "      <td>green</td>\n",
       "      <td>green</td>\n",
       "      <td>green</td>\n",
       "      <td>green</td>\n",
       "    </tr>\n",
       "    <tr>\n",
       "      <th>7500</th>\n",
       "      <td>green</td>\n",
       "      <td>orange</td>\n",
       "      <td>green</td>\n",
       "      <td>green</td>\n",
       "      <td>green</td>\n",
       "      <td>green</td>\n",
       "    </tr>\n",
       "    <tr>\n",
       "      <th>7501</th>\n",
       "      <td>green</td>\n",
       "      <td>green</td>\n",
       "      <td>green</td>\n",
       "      <td>green</td>\n",
       "      <td>green</td>\n",
       "      <td>green</td>\n",
       "    </tr>\n",
       "    <tr>\n",
       "      <th>7502</th>\n",
       "      <td>green</td>\n",
       "      <td>green</td>\n",
       "      <td>green</td>\n",
       "      <td>green</td>\n",
       "      <td>green</td>\n",
       "      <td>green</td>\n",
       "    </tr>\n",
       "    <tr>\n",
       "      <th>7503</th>\n",
       "      <td>green</td>\n",
       "      <td>green</td>\n",
       "      <td>green</td>\n",
       "      <td>green</td>\n",
       "      <td>green</td>\n",
       "      <td>green</td>\n",
       "    </tr>\n",
       "  </tbody>\n",
       "</table>\n",
       "<p>7504 rows × 6 columns</p>\n",
       "</div>"
      ],
      "text/plain": [
       "     engine_load_category Engine_Coolant_Temp_category Engine_RPM_category  \\\n",
       "0                   green                        green               green   \n",
       "1                   green                        green               green   \n",
       "2                   green                        green               green   \n",
       "3                     red                        green              orange   \n",
       "4                   green                        green               green   \n",
       "...                   ...                          ...                 ...   \n",
       "7499                green                        green               green   \n",
       "7500                green                       orange               green   \n",
       "7501                green                        green               green   \n",
       "7502                green                        green               green   \n",
       "7503                green                        green               green   \n",
       "\n",
       "     Voltage_Control_Module_category Engine_Oil_Temp_category  \\\n",
       "0                              green                    green   \n",
       "1                              green                    green   \n",
       "2                              green                    green   \n",
       "3                              green                    green   \n",
       "4                              green                    green   \n",
       "...                              ...                      ...   \n",
       "7499                           green                    green   \n",
       "7500                           green                    green   \n",
       "7501                           green                    green   \n",
       "7502                           green                    green   \n",
       "7503                           green                    green   \n",
       "\n",
       "     Turbo_Boost_And_Vcm_Gauge_category  \n",
       "0                                 green  \n",
       "1                                 green  \n",
       "2                                 green  \n",
       "3                                 green  \n",
       "4                                 green  \n",
       "...                                 ...  \n",
       "7499                              green  \n",
       "7500                              green  \n",
       "7501                              green  \n",
       "7502                              green  \n",
       "7503                              green  \n",
       "\n",
       "[7504 rows x 6 columns]"
      ]
     },
     "execution_count": 11,
     "metadata": {},
     "output_type": "execute_result"
    }
   ],
   "source": [
    "df1"
   ]
  },
  {
   "cell_type": "code",
   "execution_count": 12,
   "metadata": {},
   "outputs": [
    {
     "data": {
      "text/html": [
       "<div>\n",
       "<style scoped>\n",
       "    .dataframe tbody tr th:only-of-type {\n",
       "        vertical-align: middle;\n",
       "    }\n",
       "\n",
       "    .dataframe tbody tr th {\n",
       "        vertical-align: top;\n",
       "    }\n",
       "\n",
       "    .dataframe thead th {\n",
       "        text-align: right;\n",
       "    }\n",
       "</style>\n",
       "<table border=\"1\" class=\"dataframe\">\n",
       "  <thead>\n",
       "    <tr style=\"text-align: right;\">\n",
       "      <th></th>\n",
       "      <th>Engine_Load</th>\n",
       "      <th>Engine_Coolant_Temp</th>\n",
       "      <th>Engine_RPM</th>\n",
       "      <th>Voltage_Control_Module</th>\n",
       "      <th>Engine_Oil_Temp</th>\n",
       "      <th>Turbo_Boost_And_Vcm_Gauge</th>\n",
       "      <th>target</th>\n",
       "    </tr>\n",
       "  </thead>\n",
       "  <tbody>\n",
       "    <tr>\n",
       "      <th>0</th>\n",
       "      <td>21.568628</td>\n",
       "      <td>88</td>\n",
       "      <td>1115.5</td>\n",
       "      <td>14.10</td>\n",
       "      <td>85</td>\n",
       "      <td>2.755716</td>\n",
       "      <td>GREEN</td>\n",
       "    </tr>\n",
       "    <tr>\n",
       "      <th>1</th>\n",
       "      <td>20.392157</td>\n",
       "      <td>88</td>\n",
       "      <td>1782.5</td>\n",
       "      <td>14.10</td>\n",
       "      <td>85</td>\n",
       "      <td>5.511435</td>\n",
       "      <td>GREEN</td>\n",
       "    </tr>\n",
       "    <tr>\n",
       "      <th>2</th>\n",
       "      <td>43.529410</td>\n",
       "      <td>81</td>\n",
       "      <td>1588.0</td>\n",
       "      <td>14.20</td>\n",
       "      <td>79</td>\n",
       "      <td>1.740453</td>\n",
       "      <td>GREEN</td>\n",
       "    </tr>\n",
       "    <tr>\n",
       "      <th>3</th>\n",
       "      <td>99.607840</td>\n",
       "      <td>89</td>\n",
       "      <td>1899.5</td>\n",
       "      <td>14.16</td>\n",
       "      <td>87</td>\n",
       "      <td>4.496170</td>\n",
       "      <td>RED</td>\n",
       "    </tr>\n",
       "    <tr>\n",
       "      <th>4</th>\n",
       "      <td>73.333336</td>\n",
       "      <td>89</td>\n",
       "      <td>1230.5</td>\n",
       "      <td>14.12</td>\n",
       "      <td>85</td>\n",
       "      <td>3.770981</td>\n",
       "      <td>GREEN</td>\n",
       "    </tr>\n",
       "    <tr>\n",
       "      <th>...</th>\n",
       "      <td>...</td>\n",
       "      <td>...</td>\n",
       "      <td>...</td>\n",
       "      <td>...</td>\n",
       "      <td>...</td>\n",
       "      <td>...</td>\n",
       "      <td>...</td>\n",
       "    </tr>\n",
       "    <tr>\n",
       "      <th>7499</th>\n",
       "      <td>17.254902</td>\n",
       "      <td>89</td>\n",
       "      <td>1298.0</td>\n",
       "      <td>14.22</td>\n",
       "      <td>87</td>\n",
       "      <td>1.305340</td>\n",
       "      <td>GREEN</td>\n",
       "    </tr>\n",
       "    <tr>\n",
       "      <th>7500</th>\n",
       "      <td>0.000000</td>\n",
       "      <td>90</td>\n",
       "      <td>1158.5</td>\n",
       "      <td>14.18</td>\n",
       "      <td>88</td>\n",
       "      <td>1.740453</td>\n",
       "      <td>YELLOW</td>\n",
       "    </tr>\n",
       "    <tr>\n",
       "      <th>7501</th>\n",
       "      <td>55.686275</td>\n",
       "      <td>89</td>\n",
       "      <td>1575.5</td>\n",
       "      <td>14.02</td>\n",
       "      <td>86</td>\n",
       "      <td>4.206095</td>\n",
       "      <td>GREEN</td>\n",
       "    </tr>\n",
       "    <tr>\n",
       "      <th>7502</th>\n",
       "      <td>46.274510</td>\n",
       "      <td>87</td>\n",
       "      <td>1412.0</td>\n",
       "      <td>14.20</td>\n",
       "      <td>83</td>\n",
       "      <td>1.740453</td>\n",
       "      <td>GREEN</td>\n",
       "    </tr>\n",
       "    <tr>\n",
       "      <th>7503</th>\n",
       "      <td>62.745100</td>\n",
       "      <td>88</td>\n",
       "      <td>1524.5</td>\n",
       "      <td>14.20</td>\n",
       "      <td>83</td>\n",
       "      <td>5.221359</td>\n",
       "      <td>GREEN</td>\n",
       "    </tr>\n",
       "  </tbody>\n",
       "</table>\n",
       "<p>7504 rows × 7 columns</p>\n",
       "</div>"
      ],
      "text/plain": [
       "      Engine_Load  Engine_Coolant_Temp  Engine_RPM  Voltage_Control_Module  \\\n",
       "0       21.568628                   88      1115.5                   14.10   \n",
       "1       20.392157                   88      1782.5                   14.10   \n",
       "2       43.529410                   81      1588.0                   14.20   \n",
       "3       99.607840                   89      1899.5                   14.16   \n",
       "4       73.333336                   89      1230.5                   14.12   \n",
       "...           ...                  ...         ...                     ...   \n",
       "7499    17.254902                   89      1298.0                   14.22   \n",
       "7500     0.000000                   90      1158.5                   14.18   \n",
       "7501    55.686275                   89      1575.5                   14.02   \n",
       "7502    46.274510                   87      1412.0                   14.20   \n",
       "7503    62.745100                   88      1524.5                   14.20   \n",
       "\n",
       "      Engine_Oil_Temp  Turbo_Boost_And_Vcm_Gauge  target  \n",
       "0                  85                   2.755716   GREEN  \n",
       "1                  85                   5.511435   GREEN  \n",
       "2                  79                   1.740453   GREEN  \n",
       "3                  87                   4.496170     RED  \n",
       "4                  85                   3.770981   GREEN  \n",
       "...               ...                        ...     ...  \n",
       "7499               87                   1.305340   GREEN  \n",
       "7500               88                   1.740453  YELLOW  \n",
       "7501               86                   4.206095   GREEN  \n",
       "7502               83                   1.740453   GREEN  \n",
       "7503               83                   5.221359   GREEN  \n",
       "\n",
       "[7504 rows x 7 columns]"
      ]
     },
     "execution_count": 12,
     "metadata": {},
     "output_type": "execute_result"
    }
   ],
   "source": [
    "df"
   ]
  },
  {
   "cell_type": "code",
   "execution_count": 13,
   "metadata": {},
   "outputs": [
    {
     "name": "stdout",
     "output_type": "stream",
     "text": [
      "<class 'pandas.core.frame.DataFrame'>\n",
      "RangeIndex: 7504 entries, 0 to 7503\n",
      "Data columns (total 7 columns):\n",
      " #   Column                     Non-Null Count  Dtype  \n",
      "---  ------                     --------------  -----  \n",
      " 0   Engine_Load                7504 non-null   float64\n",
      " 1   Engine_Coolant_Temp        7504 non-null   int64  \n",
      " 2   Engine_RPM                 7504 non-null   float64\n",
      " 3   Voltage_Control_Module     7504 non-null   float64\n",
      " 4   Engine_Oil_Temp            7504 non-null   int64  \n",
      " 5   Turbo_Boost_And_Vcm_Gauge  7504 non-null   float64\n",
      " 6   target                     7504 non-null   object \n",
      "dtypes: float64(4), int64(2), object(1)\n",
      "memory usage: 410.5+ KB\n"
     ]
    }
   ],
   "source": [
    "df.info()"
   ]
  },
  {
   "cell_type": "code",
   "execution_count": 14,
   "metadata": {},
   "outputs": [],
   "source": [
    "df['target'] = list(map(lambda x: str(x).lower(),df['target']))"
   ]
  },
  {
   "cell_type": "code",
   "execution_count": 15,
   "metadata": {},
   "outputs": [],
   "source": [
    "from sklearn.preprocessing import LabelEncoder"
   ]
  },
  {
   "cell_type": "code",
   "execution_count": 16,
   "metadata": {},
   "outputs": [],
   "source": [
    "le = LabelEncoder()"
   ]
  },
  {
   "cell_type": "code",
   "execution_count": 17,
   "metadata": {},
   "outputs": [],
   "source": [
    "df['target'] = le.fit_transform(df['target']).tolist()"
   ]
  },
  {
   "cell_type": "code",
   "execution_count": 18,
   "metadata": {},
   "outputs": [
    {
     "data": {
      "text/plain": [
       "0       0\n",
       "1       0\n",
       "2       0\n",
       "3       2\n",
       "4       0\n",
       "       ..\n",
       "7499    0\n",
       "7500    3\n",
       "7501    0\n",
       "7502    0\n",
       "7503    0\n",
       "Name: target, Length: 7504, dtype: int64"
      ]
     },
     "execution_count": 18,
     "metadata": {},
     "output_type": "execute_result"
    }
   ],
   "source": [
    "df['target']"
   ]
  },
  {
   "cell_type": "code",
   "execution_count": 19,
   "metadata": {},
   "outputs": [],
   "source": [
    "df = df.round(2)"
   ]
  },
  {
   "cell_type": "code",
   "execution_count": 20,
   "metadata": {},
   "outputs": [
    {
     "data": {
      "text/html": [
       "<div>\n",
       "<style scoped>\n",
       "    .dataframe tbody tr th:only-of-type {\n",
       "        vertical-align: middle;\n",
       "    }\n",
       "\n",
       "    .dataframe tbody tr th {\n",
       "        vertical-align: top;\n",
       "    }\n",
       "\n",
       "    .dataframe thead th {\n",
       "        text-align: right;\n",
       "    }\n",
       "</style>\n",
       "<table border=\"1\" class=\"dataframe\">\n",
       "  <thead>\n",
       "    <tr style=\"text-align: right;\">\n",
       "      <th></th>\n",
       "      <th>Engine_Load</th>\n",
       "      <th>Engine_Coolant_Temp</th>\n",
       "      <th>Engine_RPM</th>\n",
       "      <th>Voltage_Control_Module</th>\n",
       "      <th>Engine_Oil_Temp</th>\n",
       "      <th>Turbo_Boost_And_Vcm_Gauge</th>\n",
       "      <th>target</th>\n",
       "    </tr>\n",
       "  </thead>\n",
       "  <tbody>\n",
       "    <tr>\n",
       "      <th>0</th>\n",
       "      <td>21.57</td>\n",
       "      <td>88</td>\n",
       "      <td>1115.5</td>\n",
       "      <td>14.10</td>\n",
       "      <td>85</td>\n",
       "      <td>2.76</td>\n",
       "      <td>0</td>\n",
       "    </tr>\n",
       "    <tr>\n",
       "      <th>1</th>\n",
       "      <td>20.39</td>\n",
       "      <td>88</td>\n",
       "      <td>1782.5</td>\n",
       "      <td>14.10</td>\n",
       "      <td>85</td>\n",
       "      <td>5.51</td>\n",
       "      <td>0</td>\n",
       "    </tr>\n",
       "    <tr>\n",
       "      <th>2</th>\n",
       "      <td>43.53</td>\n",
       "      <td>81</td>\n",
       "      <td>1588.0</td>\n",
       "      <td>14.20</td>\n",
       "      <td>79</td>\n",
       "      <td>1.74</td>\n",
       "      <td>0</td>\n",
       "    </tr>\n",
       "    <tr>\n",
       "      <th>3</th>\n",
       "      <td>99.61</td>\n",
       "      <td>89</td>\n",
       "      <td>1899.5</td>\n",
       "      <td>14.16</td>\n",
       "      <td>87</td>\n",
       "      <td>4.50</td>\n",
       "      <td>2</td>\n",
       "    </tr>\n",
       "    <tr>\n",
       "      <th>4</th>\n",
       "      <td>73.33</td>\n",
       "      <td>89</td>\n",
       "      <td>1230.5</td>\n",
       "      <td>14.12</td>\n",
       "      <td>85</td>\n",
       "      <td>3.77</td>\n",
       "      <td>0</td>\n",
       "    </tr>\n",
       "  </tbody>\n",
       "</table>\n",
       "</div>"
      ],
      "text/plain": [
       "   Engine_Load  Engine_Coolant_Temp  Engine_RPM  Voltage_Control_Module  \\\n",
       "0        21.57                   88      1115.5                   14.10   \n",
       "1        20.39                   88      1782.5                   14.10   \n",
       "2        43.53                   81      1588.0                   14.20   \n",
       "3        99.61                   89      1899.5                   14.16   \n",
       "4        73.33                   89      1230.5                   14.12   \n",
       "\n",
       "   Engine_Oil_Temp  Turbo_Boost_And_Vcm_Gauge  target  \n",
       "0               85                       2.76       0  \n",
       "1               85                       5.51       0  \n",
       "2               79                       1.74       0  \n",
       "3               87                       4.50       2  \n",
       "4               85                       3.77       0  "
      ]
     },
     "execution_count": 20,
     "metadata": {},
     "output_type": "execute_result"
    }
   ],
   "source": [
    "df.head()"
   ]
  },
  {
   "cell_type": "code",
   "execution_count": 21,
   "metadata": {},
   "outputs": [
    {
     "data": {
      "text/plain": [
       "Index(['Engine_Load', 'Engine_Coolant_Temp', 'Engine_RPM',\n",
       "       'Voltage_Control_Module', 'Engine_Oil_Temp',\n",
       "       'Turbo_Boost_And_Vcm_Gauge', 'target'],\n",
       "      dtype='object')"
      ]
     },
     "execution_count": 21,
     "metadata": {},
     "output_type": "execute_result"
    }
   ],
   "source": [
    "df.columns"
   ]
  },
  {
   "cell_type": "code",
   "execution_count": 22,
   "metadata": {},
   "outputs": [],
   "source": [
    "feature_cols = [x for x in df.columns if x not in 'target']"
   ]
  },
  {
   "cell_type": "code",
   "execution_count": 23,
   "metadata": {},
   "outputs": [
    {
     "data": {
      "text/plain": [
       "['Engine_Load',\n",
       " 'Engine_Coolant_Temp',\n",
       " 'Engine_RPM',\n",
       " 'Voltage_Control_Module',\n",
       " 'Engine_Oil_Temp',\n",
       " 'Turbo_Boost_And_Vcm_Gauge']"
      ]
     },
     "execution_count": 23,
     "metadata": {},
     "output_type": "execute_result"
    }
   ],
   "source": [
    "feature_cols"
   ]
  },
  {
   "cell_type": "code",
   "execution_count": 24,
   "metadata": {},
   "outputs": [],
   "source": [
    "from sklearn.model_selection import StratifiedShuffleSplit"
   ]
  },
  {
   "cell_type": "code",
   "execution_count": 25,
   "metadata": {},
   "outputs": [],
   "source": [
    "strat_shuff_split = StratifiedShuffleSplit(n_splits = 1, test_size = 2252, random_state = 42)"
   ]
  },
  {
   "cell_type": "code",
   "execution_count": 26,
   "metadata": {},
   "outputs": [],
   "source": [
    "train_idx, test_idx = next(strat_shuff_split.split(df[feature_cols], df['target']))"
   ]
  },
  {
   "cell_type": "code",
   "execution_count": 27,
   "metadata": {},
   "outputs": [],
   "source": [
    "x_train = df.loc[train_idx, feature_cols]\n",
    "y_train = df.loc[train_idx, 'target']"
   ]
  },
  {
   "cell_type": "code",
   "execution_count": 28,
   "metadata": {},
   "outputs": [],
   "source": [
    "x_test = df.loc[test_idx, feature_cols]\n",
    "y_test = df.loc[test_idx, 'target']"
   ]
  },
  {
   "cell_type": "code",
   "execution_count": 29,
   "metadata": {},
   "outputs": [
    {
     "data": {
      "text/plain": [
       "(5252, 6)"
      ]
     },
     "execution_count": 29,
     "metadata": {},
     "output_type": "execute_result"
    }
   ],
   "source": [
    "x_train.shape"
   ]
  },
  {
   "cell_type": "code",
   "execution_count": 30,
   "metadata": {},
   "outputs": [
    {
     "data": {
      "text/plain": [
       "(2252,)"
      ]
     },
     "execution_count": 30,
     "metadata": {},
     "output_type": "execute_result"
    }
   ],
   "source": [
    "y_test.shape"
   ]
  },
  {
   "cell_type": "code",
   "execution_count": 31,
   "metadata": {},
   "outputs": [],
   "source": [
    "#from sklearn.model_selection import train_test_split\n",
    "from sklearn.metrics import accuracy_score, classification_report, confusion_matrix"
   ]
  },
  {
   "cell_type": "code",
   "execution_count": 32,
   "metadata": {},
   "outputs": [],
   "source": [
    "#x_train, x_test, y_train, y_test = train_test_split(X,Y, test_size=0.3, random_state=42)"
   ]
  },
  {
   "cell_type": "code",
   "execution_count": 33,
   "metadata": {},
   "outputs": [
    {
     "data": {
      "text/plain": [
       "1736    2\n",
       "3753    0\n",
       "130     0\n",
       "4583    0\n",
       "196     0\n",
       "       ..\n",
       "4387    0\n",
       "6539    2\n",
       "2194    0\n",
       "5175    0\n",
       "5041    3\n",
       "Name: target, Length: 2252, dtype: int64"
      ]
     },
     "execution_count": 33,
     "metadata": {},
     "output_type": "execute_result"
    }
   ],
   "source": [
    "y_test"
   ]
  },
  {
   "cell_type": "code",
   "execution_count": 35,
   "metadata": {},
   "outputs": [
    {
     "data": {
      "text/plain": [
       "array([2, 0, 3, 1], dtype=int64)"
      ]
     },
     "execution_count": 35,
     "metadata": {},
     "output_type": "execute_result"
    }
   ],
   "source": [
    "y_test.unique()"
   ]
  },
  {
   "cell_type": "code",
   "execution_count": 36,
   "metadata": {},
   "outputs": [
    {
     "data": {
      "text/plain": [
       "0    1651\n",
       "3     512\n",
       "2      86\n",
       "1       3\n",
       "Name: target, dtype: int64"
      ]
     },
     "execution_count": 36,
     "metadata": {},
     "output_type": "execute_result"
    }
   ],
   "source": [
    "y_test.value_counts()"
   ]
  },
  {
   "cell_type": "markdown",
   "metadata": {},
   "source": [
    " **Classification Algorithms** "
   ]
  },
  {
   "cell_type": "markdown",
   "metadata": {},
   "source": [
    "  **1. Random Forest Classifier**"
   ]
  },
  {
   "cell_type": "code",
   "execution_count": 37,
   "metadata": {},
   "outputs": [],
   "source": [
    "from sklearn.ensemble import RandomForestClassifier\n",
    "clf = RandomForestClassifier()\n",
    "clf.fit(x_train,y_train)\n",
    "clf_prediction = clf.predict(x_test)"
   ]
  },
  {
   "cell_type": "markdown",
   "metadata": {},
   "source": [
    " **Evaluation** "
   ]
  },
  {
   "cell_type": "code",
   "execution_count": 38,
   "metadata": {},
   "outputs": [
    {
     "data": {
      "text/plain": [
       "0.9968916518650088"
      ]
     },
     "execution_count": 38,
     "metadata": {},
     "output_type": "execute_result"
    }
   ],
   "source": [
    "clf_score = accuracy_score(y_test,clf_prediction)\n",
    "clf_score\n"
   ]
  },
  {
   "cell_type": "code",
   "execution_count": 39,
   "metadata": {},
   "outputs": [
    {
     "data": {
      "text/plain": [
       "array([[1651,    0,    0,    0],\n",
       "       [   0,    1,    0,    2],\n",
       "       [   1,    0,   84,    1],\n",
       "       [   3,    0,    0,  509]], dtype=int64)"
      ]
     },
     "execution_count": 39,
     "metadata": {},
     "output_type": "execute_result"
    }
   ],
   "source": [
    "confusion_matrix(y_test, clf_prediction)"
   ]
  },
  {
   "cell_type": "code",
   "execution_count": 40,
   "metadata": {},
   "outputs": [
    {
     "name": "stdout",
     "output_type": "stream",
     "text": [
      "              precision    recall  f1-score   support\n",
      "\n",
      "           0       1.00      1.00      1.00      1651\n",
      "           1       1.00      0.33      0.50         3\n",
      "           2       1.00      0.98      0.99        86\n",
      "           3       0.99      0.99      0.99       512\n",
      "\n",
      "    accuracy                           1.00      2252\n",
      "   macro avg       1.00      0.83      0.87      2252\n",
      "weighted avg       1.00      1.00      1.00      2252\n",
      "\n"
     ]
    }
   ],
   "source": [
    "print(classification_report(y_test,clf_prediction))"
   ]
  },
  {
   "cell_type": "markdown",
   "metadata": {},
   "source": [
    " **2. AdaBoost**"
   ]
  },
  {
   "cell_type": "code",
   "execution_count": 41,
   "metadata": {},
   "outputs": [],
   "source": [
    "from sklearn.ensemble import AdaBoostClassifier\n",
    "ada = AdaBoostClassifier()\n",
    "ada.fit(x_train,y_train)\n",
    "ada_prediction = ada.predict(x_test)"
   ]
  },
  {
   "cell_type": "markdown",
   "metadata": {},
   "source": [
    " **Evaluation** "
   ]
  },
  {
   "cell_type": "code",
   "execution_count": 42,
   "metadata": {},
   "outputs": [
    {
     "data": {
      "text/plain": [
       "0.9551509769094139"
      ]
     },
     "execution_count": 42,
     "metadata": {},
     "output_type": "execute_result"
    }
   ],
   "source": [
    "ada_score = accuracy_score(ada_prediction,y_test)\n",
    "ada_score\n"
   ]
  },
  {
   "cell_type": "code",
   "execution_count": 43,
   "metadata": {},
   "outputs": [
    {
     "data": {
      "text/plain": [
       "array([[1651,    0,    0,    0],\n",
       "       [   0,    0,    0,    3],\n",
       "       [   1,    0,   85,    0],\n",
       "       [  97,    0,    0,  415]], dtype=int64)"
      ]
     },
     "execution_count": 43,
     "metadata": {},
     "output_type": "execute_result"
    }
   ],
   "source": [
    "confusion_matrix(y_test, ada_prediction)"
   ]
  },
  {
   "cell_type": "code",
   "execution_count": 44,
   "metadata": {},
   "outputs": [
    {
     "name": "stdout",
     "output_type": "stream",
     "text": [
      "              precision    recall  f1-score   support\n",
      "\n",
      "           0       0.94      1.00      0.97      1651\n",
      "           1       0.00      0.00      0.00         3\n",
      "           2       1.00      0.99      0.99        86\n",
      "           3       0.99      0.81      0.89       512\n",
      "\n",
      "    accuracy                           0.96      2252\n",
      "   macro avg       0.73      0.70      0.71      2252\n",
      "weighted avg       0.96      0.96      0.95      2252\n",
      "\n"
     ]
    },
    {
     "name": "stderr",
     "output_type": "stream",
     "text": [
      "C:\\Users\\guest23455\\anaconda3\\lib\\site-packages\\sklearn\\metrics\\_classification.py:1272: UndefinedMetricWarning: Precision and F-score are ill-defined and being set to 0.0 in labels with no predicted samples. Use `zero_division` parameter to control this behavior.\n",
      "  _warn_prf(average, modifier, msg_start, len(result))\n"
     ]
    }
   ],
   "source": [
    "print(classification_report(y_test,ada_prediction))"
   ]
  },
  {
   "cell_type": "markdown",
   "metadata": {},
   "source": [
    " **3. Support Vector Classifier**"
   ]
  },
  {
   "cell_type": "code",
   "execution_count": 45,
   "metadata": {},
   "outputs": [],
   "source": [
    "from sklearn.svm import SVC\n",
    "svc = SVC()\n",
    "svc.fit(x_train,y_train)\n",
    "svc_prediction = svc.predict(x_test)"
   ]
  },
  {
   "cell_type": "markdown",
   "metadata": {},
   "source": [
    "**Evaluation**"
   ]
  },
  {
   "cell_type": "code",
   "execution_count": 46,
   "metadata": {},
   "outputs": [
    {
     "data": {
      "text/plain": [
       "0.7793072824156305"
      ]
     },
     "execution_count": 46,
     "metadata": {},
     "output_type": "execute_result"
    }
   ],
   "source": [
    "svc_score = accuracy_score(y_test,svc_prediction)\n",
    "svc_score"
   ]
  },
  {
   "cell_type": "code",
   "execution_count": 47,
   "metadata": {},
   "outputs": [
    {
     "data": {
      "text/plain": [
       "array([[1643,    0,    0,    8],\n",
       "       [   0,    0,    0,    3],\n",
       "       [  60,    0,    6,   20],\n",
       "       [ 406,    0,    0,  106]], dtype=int64)"
      ]
     },
     "execution_count": 47,
     "metadata": {},
     "output_type": "execute_result"
    }
   ],
   "source": [
    "confusion_matrix(y_test, svc_prediction)"
   ]
  },
  {
   "cell_type": "code",
   "execution_count": 48,
   "metadata": {},
   "outputs": [
    {
     "name": "stdout",
     "output_type": "stream",
     "text": [
      "              precision    recall  f1-score   support\n",
      "\n",
      "           0       0.78      1.00      0.87      1651\n",
      "           1       0.00      0.00      0.00         3\n",
      "           2       1.00      0.07      0.13        86\n",
      "           3       0.77      0.21      0.33       512\n",
      "\n",
      "    accuracy                           0.78      2252\n",
      "   macro avg       0.64      0.32      0.33      2252\n",
      "weighted avg       0.79      0.78      0.72      2252\n",
      "\n"
     ]
    },
    {
     "name": "stderr",
     "output_type": "stream",
     "text": [
      "C:\\Users\\guest23455\\anaconda3\\lib\\site-packages\\sklearn\\metrics\\_classification.py:1272: UndefinedMetricWarning: Precision and F-score are ill-defined and being set to 0.0 in labels with no predicted samples. Use `zero_division` parameter to control this behavior.\n",
      "  _warn_prf(average, modifier, msg_start, len(result))\n"
     ]
    }
   ],
   "source": [
    "print(classification_report(y_test,svc_prediction))"
   ]
  },
  {
   "cell_type": "markdown",
   "metadata": {},
   "source": [
    " **4. K Nearest Neighbor**"
   ]
  },
  {
   "cell_type": "code",
   "execution_count": 49,
   "metadata": {},
   "outputs": [],
   "source": [
    "from sklearn.neighbors import KNeighborsClassifier\n",
    "knn = KNeighborsClassifier(n_neighbors=4)\n",
    "knn.fit(x_train,y_train)\n",
    "knn_prediction = knn.predict(x_test)"
   ]
  },
  {
   "cell_type": "markdown",
   "metadata": {},
   "source": [
    "**Evaluation**"
   ]
  },
  {
   "cell_type": "code",
   "execution_count": 50,
   "metadata": {},
   "outputs": [
    {
     "data": {
      "text/plain": [
       "0.8423623445825933"
      ]
     },
     "execution_count": 50,
     "metadata": {},
     "output_type": "execute_result"
    }
   ],
   "source": [
    "knn_score = accuracy_score(y_test,knn_prediction)\n",
    "knn_score\n"
   ]
  },
  {
   "cell_type": "code",
   "execution_count": 51,
   "metadata": {},
   "outputs": [
    {
     "data": {
      "text/plain": [
       "array([[1608,    0,    0,   43],\n",
       "       [   0,    0,    0,    3],\n",
       "       [   1,    0,   72,   13],\n",
       "       [ 276,    0,   19,  217]], dtype=int64)"
      ]
     },
     "execution_count": 51,
     "metadata": {},
     "output_type": "execute_result"
    }
   ],
   "source": [
    "confusion_matrix(y_test, knn_prediction)"
   ]
  },
  {
   "cell_type": "code",
   "execution_count": 52,
   "metadata": {},
   "outputs": [
    {
     "name": "stdout",
     "output_type": "stream",
     "text": [
      "              precision    recall  f1-score   support\n",
      "\n",
      "           0       0.85      0.97      0.91      1651\n",
      "           1       0.00      0.00      0.00         3\n",
      "           2       0.79      0.84      0.81        86\n",
      "           3       0.79      0.42      0.55       512\n",
      "\n",
      "    accuracy                           0.84      2252\n",
      "   macro avg       0.61      0.56      0.57      2252\n",
      "weighted avg       0.83      0.84      0.82      2252\n",
      "\n"
     ]
    },
    {
     "name": "stderr",
     "output_type": "stream",
     "text": [
      "C:\\Users\\guest23455\\anaconda3\\lib\\site-packages\\sklearn\\metrics\\_classification.py:1272: UndefinedMetricWarning: Precision and F-score are ill-defined and being set to 0.0 in labels with no predicted samples. Use `zero_division` parameter to control this behavior.\n",
      "  _warn_prf(average, modifier, msg_start, len(result))\n"
     ]
    }
   ],
   "source": [
    "print(classification_report(y_test,knn_prediction))"
   ]
  },
  {
   "cell_type": "markdown",
   "metadata": {},
   "source": [
    "**5. XGBoost**"
   ]
  },
  {
   "cell_type": "code",
   "execution_count": 53,
   "metadata": {},
   "outputs": [],
   "source": [
    "import xgboost as xgb\n",
    "xgb_clf = xgb.XGBClassifier(max_depth=5, learning_rate=0.1, n_estimators=100)\n",
    "xgb_clf.fit(x_train,y_train)\n",
    "xgb_prediction = xgb_clf.predict(x_test)"
   ]
  },
  {
   "cell_type": "markdown",
   "metadata": {},
   "source": [
    "**Evaluation** "
   ]
  },
  {
   "cell_type": "code",
   "execution_count": 54,
   "metadata": {},
   "outputs": [
    {
     "data": {
      "text/plain": [
       "0.9982238010657194"
      ]
     },
     "execution_count": 54,
     "metadata": {},
     "output_type": "execute_result"
    }
   ],
   "source": [
    "xgb_score = accuracy_score(y_test,xgb_prediction)\n",
    "xgb_score"
   ]
  },
  {
   "cell_type": "code",
   "execution_count": 55,
   "metadata": {},
   "outputs": [
    {
     "data": {
      "text/plain": [
       "array([[1651,    0,    0,    0],\n",
       "       [   0,    2,    0,    1],\n",
       "       [   0,    0,   85,    1],\n",
       "       [   2,    0,    0,  510]], dtype=int64)"
      ]
     },
     "execution_count": 55,
     "metadata": {},
     "output_type": "execute_result"
    }
   ],
   "source": [
    "confusion_matrix(y_test, xgb_prediction)"
   ]
  },
  {
   "cell_type": "code",
   "execution_count": 56,
   "metadata": {},
   "outputs": [
    {
     "name": "stdout",
     "output_type": "stream",
     "text": [
      "              precision    recall  f1-score   support\n",
      "\n",
      "           0       1.00      1.00      1.00      1651\n",
      "           1       1.00      0.67      0.80         3\n",
      "           2       1.00      0.99      0.99        86\n",
      "           3       1.00      1.00      1.00       512\n",
      "\n",
      "    accuracy                           1.00      2252\n",
      "   macro avg       1.00      0.91      0.95      2252\n",
      "weighted avg       1.00      1.00      1.00      2252\n",
      "\n"
     ]
    }
   ],
   "source": [
    "print(classification_report(y_test,xgb_prediction))"
   ]
  },
  {
   "cell_type": "markdown",
   "metadata": {},
   "source": [
    "**6. Gaussian Naive Bayes**"
   ]
  },
  {
   "cell_type": "code",
   "execution_count": 57,
   "metadata": {},
   "outputs": [],
   "source": [
    "from sklearn.naive_bayes import GaussianNB\n",
    "gnb = GaussianNB()\n",
    "gnb.fit(x_train, y_train)\n",
    "gnb_prediction = gnb.predict(x_test)\n"
   ]
  },
  {
   "cell_type": "markdown",
   "metadata": {},
   "source": [
    "**Evaluation** "
   ]
  },
  {
   "cell_type": "code",
   "execution_count": 58,
   "metadata": {},
   "outputs": [
    {
     "data": {
      "text/plain": [
       "0.8219360568383659"
      ]
     },
     "execution_count": 58,
     "metadata": {},
     "output_type": "execute_result"
    }
   ],
   "source": [
    "gnb_score = accuracy_score(y_test,gnb_prediction)\n",
    "gnb_score"
   ]
  },
  {
   "cell_type": "code",
   "execution_count": 59,
   "metadata": {},
   "outputs": [
    {
     "data": {
      "text/plain": [
       "array([[1541,    0,    9,  101],\n",
       "       [   0,    1,    1,    1],\n",
       "       [   2,    1,   19,   64],\n",
       "       [ 188,   11,   23,  290]], dtype=int64)"
      ]
     },
     "execution_count": 59,
     "metadata": {},
     "output_type": "execute_result"
    }
   ],
   "source": [
    "confusion_matrix(y_test, gnb_prediction)"
   ]
  },
  {
   "cell_type": "code",
   "execution_count": 60,
   "metadata": {},
   "outputs": [
    {
     "name": "stdout",
     "output_type": "stream",
     "text": [
      "              precision    recall  f1-score   support\n",
      "\n",
      "           0       0.89      0.93      0.91      1651\n",
      "           1       0.08      0.33      0.12         3\n",
      "           2       0.37      0.22      0.28        86\n",
      "           3       0.64      0.57      0.60       512\n",
      "\n",
      "    accuracy                           0.82      2252\n",
      "   macro avg       0.49      0.51      0.48      2252\n",
      "weighted avg       0.81      0.82      0.82      2252\n",
      "\n"
     ]
    }
   ],
   "source": [
    "print(classification_report(y_test,gnb_prediction))"
   ]
  },
  {
   "cell_type": "markdown",
   "metadata": {},
   "source": [
    "**7. Logistic Regression**"
   ]
  },
  {
   "cell_type": "code",
   "execution_count": 61,
   "metadata": {},
   "outputs": [
    {
     "name": "stderr",
     "output_type": "stream",
     "text": [
      "C:\\Users\\guest23455\\anaconda3\\lib\\site-packages\\sklearn\\linear_model\\_logistic.py:940: ConvergenceWarning: lbfgs failed to converge (status=1):\n",
      "STOP: TOTAL NO. of ITERATIONS REACHED LIMIT.\n",
      "\n",
      "Increase the number of iterations (max_iter) or scale the data as shown in:\n",
      "    https://scikit-learn.org/stable/modules/preprocessing.html\n",
      "Please also refer to the documentation for alternative solver options:\n",
      "    https://scikit-learn.org/stable/modules/linear_model.html#logistic-regression\n",
      "  extra_warning_msg=_LOGISTIC_SOLVER_CONVERGENCE_MSG)\n"
     ]
    }
   ],
   "source": [
    "from sklearn.linear_model import LogisticRegression\n",
    "lreg = LogisticRegression()\n",
    "lreg.fit(x_train,y_train)\n",
    "logistic_prediction = lreg.predict(x_test)\n"
   ]
  },
  {
   "cell_type": "code",
   "execution_count": 62,
   "metadata": {},
   "outputs": [
    {
     "data": {
      "text/plain": [
       "0.7717584369449378"
      ]
     },
     "execution_count": 62,
     "metadata": {},
     "output_type": "execute_result"
    }
   ],
   "source": [
    "logistic_score = accuracy_score(y_test,logistic_prediction)\n",
    "logistic_score"
   ]
  },
  {
   "cell_type": "code",
   "execution_count": 63,
   "metadata": {},
   "outputs": [
    {
     "data": {
      "text/plain": [
       "array([[1578,    0,    1,   72],\n",
       "       [   0,    0,    1,    2],\n",
       "       [  18,    0,   26,   42],\n",
       "       [ 357,    0,   21,  134]], dtype=int64)"
      ]
     },
     "execution_count": 63,
     "metadata": {},
     "output_type": "execute_result"
    }
   ],
   "source": [
    "confusion_matrix(y_test, logistic_prediction)"
   ]
  },
  {
   "cell_type": "code",
   "execution_count": 64,
   "metadata": {},
   "outputs": [
    {
     "name": "stdout",
     "output_type": "stream",
     "text": [
      "              precision    recall  f1-score   support\n",
      "\n",
      "           0       0.81      0.96      0.88      1651\n",
      "           1       0.00      0.00      0.00         3\n",
      "           2       0.53      0.30      0.39        86\n",
      "           3       0.54      0.26      0.35       512\n",
      "\n",
      "    accuracy                           0.77      2252\n",
      "   macro avg       0.47      0.38      0.40      2252\n",
      "weighted avg       0.73      0.77      0.74      2252\n",
      "\n"
     ]
    },
    {
     "name": "stderr",
     "output_type": "stream",
     "text": [
      "C:\\Users\\guest23455\\anaconda3\\lib\\site-packages\\sklearn\\metrics\\_classification.py:1272: UndefinedMetricWarning: Precision and F-score are ill-defined and being set to 0.0 in labels with no predicted samples. Use `zero_division` parameter to control this behavior.\n",
      "  _warn_prf(average, modifier, msg_start, len(result))\n"
     ]
    }
   ],
   "source": [
    "print(classification_report(y_test,logistic_prediction))"
   ]
  },
  {
   "cell_type": "code",
   "execution_count": 65,
   "metadata": {},
   "outputs": [
    {
     "data": {
      "text/html": [
       "<div>\n",
       "<style scoped>\n",
       "    .dataframe tbody tr th:only-of-type {\n",
       "        vertical-align: middle;\n",
       "    }\n",
       "\n",
       "    .dataframe tbody tr th {\n",
       "        vertical-align: top;\n",
       "    }\n",
       "\n",
       "    .dataframe thead th {\n",
       "        text-align: right;\n",
       "    }\n",
       "</style>\n",
       "<table border=\"1\" class=\"dataframe\">\n",
       "  <thead>\n",
       "    <tr style=\"text-align: right;\">\n",
       "      <th></th>\n",
       "      <th>Algorithm</th>\n",
       "      <th>Accuracy score</th>\n",
       "    </tr>\n",
       "  </thead>\n",
       "  <tbody>\n",
       "    <tr>\n",
       "      <th>0</th>\n",
       "      <td>Random Forest Classifier</td>\n",
       "      <td>0.996892</td>\n",
       "    </tr>\n",
       "    <tr>\n",
       "      <th>1</th>\n",
       "      <td>AdaBoost Classifier</td>\n",
       "      <td>0.955151</td>\n",
       "    </tr>\n",
       "    <tr>\n",
       "      <th>2</th>\n",
       "      <td>Support Vector Classifier</td>\n",
       "      <td>0.779307</td>\n",
       "    </tr>\n",
       "    <tr>\n",
       "      <th>3</th>\n",
       "      <td>K Nearest Neighbor</td>\n",
       "      <td>0.842362</td>\n",
       "    </tr>\n",
       "    <tr>\n",
       "      <th>4</th>\n",
       "      <td>XGBoost Classifier</td>\n",
       "      <td>0.998224</td>\n",
       "    </tr>\n",
       "    <tr>\n",
       "      <th>5</th>\n",
       "      <td>Gaussian Naive Bayes</td>\n",
       "      <td>0.821936</td>\n",
       "    </tr>\n",
       "    <tr>\n",
       "      <th>6</th>\n",
       "      <td>Logistic Regression</td>\n",
       "      <td>0.771758</td>\n",
       "    </tr>\n",
       "  </tbody>\n",
       "</table>\n",
       "</div>"
      ],
      "text/plain": [
       "                   Algorithm  Accuracy score\n",
       "0   Random Forest Classifier        0.996892\n",
       "1        AdaBoost Classifier        0.955151\n",
       "2  Support Vector Classifier        0.779307\n",
       "3         K Nearest Neighbor        0.842362\n",
       "4         XGBoost Classifier        0.998224\n",
       "5       Gaussian Naive Bayes        0.821936\n",
       "6        Logistic Regression        0.771758"
      ]
     },
     "execution_count": 65,
     "metadata": {},
     "output_type": "execute_result"
    }
   ],
   "source": [
    "results_df = pd.DataFrame({\"Algorithm\":[\"Random Forest Classifier\",\"AdaBoost Classifier\",\"Support Vector Classifier\",\"K Nearest Neighbor\",\"XGBoost Classifier\",\"Gaussian Naive Bayes\",\"Logistic Regression\"],\n",
    "                           \"Accuracy score\":[clf_score,ada_score,svc_score,knn_score,xgb_score,gnb_score,logistic_score]})\n",
    "results_df"
   ]
  },
  {
   "cell_type": "code",
   "execution_count": null,
   "metadata": {},
   "outputs": [],
   "source": []
  },
  {
   "cell_type": "code",
   "execution_count": null,
   "metadata": {},
   "outputs": [],
   "source": []
  },
  {
   "cell_type": "code",
   "execution_count": null,
   "metadata": {},
   "outputs": [],
   "source": []
  },
  {
   "cell_type": "code",
   "execution_count": null,
   "metadata": {},
   "outputs": [],
   "source": []
  },
  {
   "cell_type": "code",
   "execution_count": null,
   "metadata": {},
   "outputs": [],
   "source": []
  },
  {
   "cell_type": "code",
   "execution_count": null,
   "metadata": {},
   "outputs": [],
   "source": []
  },
  {
   "cell_type": "code",
   "execution_count": null,
   "metadata": {
    "scrolled": true
   },
   "outputs": [],
   "source": []
  },
  {
   "cell_type": "code",
   "execution_count": null,
   "metadata": {},
   "outputs": [],
   "source": [
    "test = pd.read_csv(\"fleet_test.csv\")"
   ]
  },
  {
   "cell_type": "code",
   "execution_count": null,
   "metadata": {},
   "outputs": [],
   "source": [
    "test"
   ]
  },
  {
   "cell_type": "code",
   "execution_count": null,
   "metadata": {},
   "outputs": [],
   "source": [
    "test.columns"
   ]
  },
  {
   "cell_type": "code",
   "execution_count": null,
   "metadata": {},
   "outputs": [],
   "source": [
    "test = test[['Measurement_timestamp','Engine_Load', 'Engine_Coolant_Temp',\n",
    "       'Engine_RPM', 'Voltage_Control_Module', 'Engine_Oil_Temp',\n",
    "       'Turbo_Boost_And_Vcm_Gauge','truckid']]"
   ]
  },
  {
   "cell_type": "code",
   "execution_count": null,
   "metadata": {},
   "outputs": [],
   "source": [
    "test"
   ]
  },
  {
   "cell_type": "code",
   "execution_count": null,
   "metadata": {},
   "outputs": [],
   "source": [
    "test_predictions = clf.predict(test[['Engine_Load', 'Engine_Coolant_Temp',\n",
    "       'Engine_RPM', 'Voltage_Control_Module', 'Engine_Oil_Temp',\n",
    "       'Turbo_Boost_And_Vcm_Gauge']])"
   ]
  },
  {
   "cell_type": "code",
   "execution_count": null,
   "metadata": {},
   "outputs": [],
   "source": [
    "test['prediction'] = le.inverse_transform(test_predictions)"
   ]
  },
  {
   "cell_type": "code",
   "execution_count": null,
   "metadata": {},
   "outputs": [],
   "source": [
    "test"
   ]
  },
  {
   "cell_type": "code",
   "execution_count": null,
   "metadata": {},
   "outputs": [],
   "source": [
    "test['prediction'].unique()"
   ]
  },
  {
   "cell_type": "code",
   "execution_count": null,
   "metadata": {},
   "outputs": [],
   "source": [
    "test['prediction'] = test['prediction'].map({'red':4,'orange':3, 'yellow':2, 'green':1})"
   ]
  },
  {
   "cell_type": "code",
   "execution_count": null,
   "metadata": {},
   "outputs": [],
   "source": [
    "test['prediction'].value_counts()"
   ]
  },
  {
   "cell_type": "code",
   "execution_count": null,
   "metadata": {},
   "outputs": [],
   "source": [
    "test.groupby('truckid')['prediction'].max().value_counts()\n"
   ]
  },
  {
   "cell_type": "code",
   "execution_count": null,
   "metadata": {},
   "outputs": [],
   "source": [
    "test.groupby('truckid')['prediction'].max()"
   ]
  },
  {
   "cell_type": "code",
   "execution_count": null,
   "metadata": {},
   "outputs": [],
   "source": []
  }
 ],
 "metadata": {
  "kernelspec": {
   "display_name": "Python 3",
   "language": "python",
   "name": "python3"
  },
  "language_info": {
   "codemirror_mode": {
    "name": "ipython",
    "version": 3
   },
   "file_extension": ".py",
   "mimetype": "text/x-python",
   "name": "python",
   "nbconvert_exporter": "python",
   "pygments_lexer": "ipython3",
   "version": "3.7.11"
  },
  "toc": {
   "base_numbering": 1,
   "nav_menu": {},
   "number_sections": true,
   "sideBar": true,
   "skip_h1_title": false,
   "title_cell": "Table of Contents",
   "title_sidebar": "Contents",
   "toc_cell": false,
   "toc_position": {},
   "toc_section_display": true,
   "toc_window_display": false
  }
 },
 "nbformat": 4,
 "nbformat_minor": 4
}
